{
  "nbformat": 4,
  "nbformat_minor": 0,
  "metadata": {
    "colab": {
      "name": "Te damos la bienvenida a Colaboratory",
      "provenance": [],
      "collapsed_sections": [],
      "include_colab_link": true
    },
    "kernelspec": {
      "display_name": "Python 3",
      "name": "python3"
    }
  },
  "cells": [
    {
      "cell_type": "markdown",
      "metadata": {
        "id": "view-in-github",
        "colab_type": "text"
      },
      "source": [
        "<a href=\"https://colab.research.google.com/github/kavioleta08/ConstruccionRecursivaDePolinomios/blob/main/Archivo%202.ipynb\" target=\"_parent\"><img src=\"https://colab.research.google.com/assets/colab-badge.svg\" alt=\"Open In Colab\"/></a>"
      ]
    },
    {
      "cell_type": "code",
      "metadata": {
        "id": "wIEhSdZu8fCX"
      },
      "source": [
        "import numpy as np\n",
        "import sympy as sp\n",
        "import matplotlib.pyplot as plt\n",
        "\n",
        "x = sp.Symbol('x')\n"
      ],
      "execution_count": 10,
      "outputs": []
    },
    {
      "cell_type": "code",
      "metadata": {
        "id": "mDvMq8ZgBrty"
      },
      "source": [
        "def polinomio1 (n=3):\n",
        "  polinomios = [0,x-2, x**2+x]\n",
        "\n",
        "  for i in range(3, n+1):\n",
        "    thispoly = polinomios[i-1] - x*polinomios[i-2]\n",
        "    polinomios.append(thispoly.expand())\n",
        "  \n",
        "  return polinomios"
      ],
      "execution_count": 25,
      "outputs": []
    },
    {
      "cell_type": "code",
      "metadata": {
        "id": "MzWDlBXaAZSu"
      },
      "source": [
        "poly_polinomio1=polinomio1(50)"
      ],
      "execution_count": 26,
      "outputs": []
    },
    {
      "cell_type": "code",
      "metadata": {
        "colab": {
          "base_uri": "https://localhost:8080/",
          "height": 80
        },
        "id": "r4frwXZQA23O",
        "outputId": "7a193b07-82cc-43f7-b790-eb21394c4268"
      },
      "source": [
        "poly_polinomio1[50]"
      ],
      "execution_count": 27,
      "outputs": [
        {
          "output_type": "execute_result",
          "data": {
            "text/latex": "$\\displaystyle x^{26} - 275 x^{25} + 12302 x^{24} - 210680 x^{23} + 1792505 x^{22} - 8238945 x^{21} + 18052125 x^{20} + 10265130 x^{19} - 204162030 x^{18} + 730725180 x^{17} - 1595437320 x^{16} + 2481240000 x^{15} - 2915079420 x^{14} + 2666394444 x^{13} - 1932199124 x^{12} + 1120490536 x^{11} - 522557475 x^{10} + 196113801 x^{9} - 59019662 x^{8} + 14126632 x^{7} - 2651593 x^{6} + 381625 x^{5} - 40633 x^{4} + 3014 x^{3} - 139 x^{2} + 3 x$",
            "text/plain": [
              "x**26 - 275*x**25 + 12302*x**24 - 210680*x**23 + 1792505*x**22 - 8238945*x**21 + 18052125*x**20 + 10265130*x**19 - 204162030*x**18 + 730725180*x**17 - 1595437320*x**16 + 2481240000*x**15 - 2915079420*x**14 + 2666394444*x**13 - 1932199124*x**12 + 1120490536*x**11 - 522557475*x**10 + 196113801*x**9 - 59019662*x**8 + 14126632*x**7 - 2651593*x**6 + 381625*x**5 - 40633*x**4 + 3014*x**3 - 139*x**2 + 3*x"
            ]
          },
          "metadata": {},
          "execution_count": 27
        }
      ]
    },
}
